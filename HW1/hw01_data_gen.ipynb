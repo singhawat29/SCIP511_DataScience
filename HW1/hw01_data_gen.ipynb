{
  "nbformat": 4,
  "nbformat_minor": 0,
  "metadata": {
    "colab": {
      "name": "hw01_data_gen.ipynb",
      "provenance": []
    },
    "kernelspec": {
      "name": "python3",
      "display_name": "Python 3"
    },
    "language_info": {
      "name": "python"
    }
  },
  "cells": [
    {
      "cell_type": "code",
      "execution_count": 9,
      "metadata": {
        "id": "T7iNxj1YAcQ3"
      },
      "outputs": [],
      "source": [
        "import numpy as np\n",
        "import matplotlib.pyplot as plt"
      ]
    },
    {
      "cell_type": "code",
      "source": [
        "def data_gen(x):\n",
        "\n",
        "  # True function is cubic, with noise added\n",
        "  y = 0.05 * x**3 - 1.0 * x**2 + 7.0 * x\n",
        "  y = y + 40.0 * np.random.rand(len(x))\n",
        "  \n",
        "  return y"
      ],
      "metadata": {
        "id": "s5PCc9vUAvli"
      },
      "execution_count": 10,
      "outputs": []
    },
    {
      "cell_type": "code",
      "source": [
        "def print_output(x, y):\n",
        "\n",
        "  # Print x and y out in a formatted table\n",
        "  print(\"# X,     Y\")\n",
        "  for i in range(len(x)):\n",
        "    print(\" {0:2.0f}, {1:5.1f}\".format(x[i], y[i]))"
      ],
      "metadata": {
        "id": "-GzNFoh5Cn-2"
      },
      "execution_count": 11,
      "outputs": []
    },
    {
      "cell_type": "code",
      "source": [
        "# Set the seed so the \"random\" numbers are reproduceable\n",
        "np.random.seed(0)\n",
        "\n",
        "# Generate x and y for training and test data\n",
        "x_train = np.linspace(0, 20, 21)\n",
        "x_test = np.linspace(0, 20, 21)\n",
        "y_train = data_gen(x_train)\n",
        "y_test = data_gen(x_train)\n",
        "\n",
        "# Preliminary plot to visualize the data\n",
        "plt.plot(x_train, y_train, \".b\")\n",
        "plt.plot(x_test, y_test, \".r\")\n",
        "plt.show()\n",
        "\n",
        "# Print them out in table format\n",
        "print(\"\\n\")\n",
        "print_output(x_train, y_train)\n",
        "print(\"\\n\")\n",
        "print_output(x_test, y_test)"
      ],
      "metadata": {
        "colab": {
          "base_uri": "https://localhost:8080/",
          "height": 1000
        },
        "id": "IIQ9ravWAflG",
        "outputId": "b05e2b22-ef0d-40b7-e9ff-f4e5e351b10a"
      },
      "execution_count": 12,
      "outputs": [
        {
          "output_type": "display_data",
          "data": {
            "text/plain": [
              "<Figure size 432x288 with 1 Axes>"
            ],
            "image/png": "[encoded data removed]"
          },
          "metadata": {
            "needs_background": "light"
          }
        },
        {
          "output_type": "stream",
          "name": "stdout",
          "text": [
            "\n",
            "\n",
            "# X,     Y\n",
            "  0,  22.0\n",
            "  1,  34.7\n",
            "  2,  34.5\n",
            "  3,  35.1\n",
            "  4,  32.1\n",
            "  5,  42.1\n",
            "  6,  34.3\n",
            "  7,  52.8\n",
            "  8,  56.1\n",
            "  9,  33.8\n",
            " 10,  51.7\n",
            " 11,  43.7\n",
            " 12,  49.1\n",
            " 13,  68.9\n",
            " 14,  42.0\n",
            " 15,  52.2\n",
            " 16,  61.6\n",
            " 17, 109.0\n",
            " 18, 124.7\n",
            " 19, 149.8\n",
            " 20, 179.1\n",
            "\n",
            "\n",
            "# X,     Y\n",
            "  0,  32.0\n",
            "  1,  24.5\n",
            "  2,  41.6\n",
            "  3,  18.1\n",
            "  4,  40.8\n",
            "  5,  22.0\n",
            "  6,  54.6\n",
            "  7,  38.0\n",
            "  8,  34.2\n",
            "  9,  29.0\n",
            " 10,  51.0\n",
            " 11,  40.8\n",
            " 12,  49.1\n",
            " 13,  32.6\n",
            " 14,  63.9\n",
            " 15,  73.2\n",
            " 16,  85.5\n",
            " 17, 113.4\n",
            " 18, 120.9\n",
            " 19, 129.3\n",
            " 20, 157.5\n"
          ]
        }
      ]
    }
  ]
}